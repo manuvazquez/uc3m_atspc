{
 "cells": [
  {
   "cell_type": "code",
   "execution_count": null,
   "metadata": {},
   "outputs": [],
   "source": [
    "import itertools\n",
    "import ipywidgets as widgets\n",
    "\n",
    "import numpy as np\n",
    "from ipycanvas import Canvas, MultiCanvas\n",
    "\n",
    "import bokeh\n",
    "from bokeh.io import output_notebook, show, push_notebook\n",
    "\n",
    "output_notebook(bokeh.resources.INLINE)\n",
    "\n",
    "from bokeh.models import ColumnDataSource, Circle, Line\n",
    "import bokeh.plotting"
   ]
  },
  {
   "cell_type": "markdown",
   "metadata": {},
   "source": [
    "Some parameters that can be tweaked (carefully, though)"
   ]
  },
  {
   "cell_type": "code",
   "execution_count": null,
   "metadata": {},
   "outputs": [],
   "source": [
    "width, height = 900, 600 # in pixels\n",
    "# width, height = 100, 600 # in pixels\n",
    "\n",
    "# these pixels are encompassed by those above\n",
    "horizontal_padding = 300 # in pixels\n",
    "vertical_padding = 100\n",
    "\n",
    "# the smaller, the easier the sensors get activated\n",
    "obs_to_angle_sensitivity = 0.25\n",
    "\n",
    "tx_power = 2e3\n",
    "\n",
    "sensors_fill_color = 'red'\n",
    "position_fill_color = 'green'\n",
    "\n",
    "n_sensors = 4\n",
    "\n",
    "# sensors are represented as circles\n",
    "sensors_radius = 19"
   ]
  },
  {
   "cell_type": "markdown",
   "metadata": {},
   "source": [
    "# Model"
   ]
  },
  {
   "cell_type": "markdown",
   "metadata": {},
   "source": [
    "We compute the observation recorded at a sensor placed at position $\\mathbf{s}$ when the *target* is at $\\mathbf{x}$  as\n",
    "$$\n",
    "    y\n",
    "    =\n",
    "    \\frac{\n",
    "        P_0\n",
    "    }\n",
    "    {\n",
    "        \\left|\\left|\n",
    "            \\mathbf{x} - \\mathbf{s}\n",
    "        \\right|\\right|_2\n",
    "    }\n",
    "$$\n",
    "where $\\left|\\left|\\mathbf{x}\\right|\\right|_2$ is the modulus (2-norm) of vector $\\mathbf{x}$."
   ]
  },
  {
   "cell_type": "code",
   "execution_count": null,
   "metadata": {},
   "outputs": [],
   "source": [
    "def obs(x_1: int, y_1: int, x_sensor: int, y_sensor) -> float:\n",
    "    \"\"\"\n",
    "        Computes an observation given the x and y coordinates for two different positions.\n",
    "    \"\"\"\n",
    "    \n",
    "    return tx_power / np.sqrt((x_1 - x_sensor)**2 + (y_1 - y_sensor)**2)"
   ]
  },
  {
   "cell_type": "markdown",
   "metadata": {},
   "source": [
    "The functions going from the model observation to the angle in the *canvas*' meters is\n",
    "$$\n",
    "2\\pi\n",
    "\\left(\n",
    "\\frac{\n",
    "    1\n",
    "}{\n",
    "    1 + e^{-\\rho y}\n",
    "}\n",
    "- 0.5\n",
    "\\right)\n",
    "/\n",
    "(1-0.5)\n",
    "$$\n",
    "where $\\rho$ is the above *observation-to-angle sensitivity* (`obs_to_angle_sensitivity`)."
   ]
  },
  {
   "cell_type": "code",
   "execution_count": null,
   "metadata": {},
   "outputs": [],
   "source": [
    "def obs_to_angle(obs: float) -> float:\n",
    "    \"\"\"\n",
    "        Turns a measure into an angle in radians.\n",
    "    \"\"\"\n",
    "    \n",
    "    return 2*np.pi * ((1. / (1. + np.exp(-obs_to_angle_sensitivity*obs))) - 0.5) / (1 - 0.5)"
   ]
  },
  {
   "cell_type": "markdown",
   "metadata": {},
   "source": [
    "# Preliminary computations"
   ]
  },
  {
   "cell_type": "code",
   "execution_count": null,
   "metadata": {},
   "outputs": [],
   "source": [
    "# number of sensors per axis\n",
    "n_sensors_per_axis = int(np.sqrt(n_sensors))\n",
    "\n",
    "# all the x coordinates of the sensors...\n",
    "sensors_x_coordinates = np.linspace(horizontal_padding, width-horizontal_padding, n_sensors_per_axis)\n",
    "# sensors_x_coordinates = np.linspace(horizontal_padding, width-horizontal_padding, n_sensors_per_axis+)[1:]\n",
    "\n",
    "# ...and all the y's\n",
    "sensors_y_coordinates = np.linspace(vertical_padding, height-vertical_padding, n_sensors_per_axis)\n",
    "\n",
    "# a list of tuples with the resulting positions\n",
    "sensors_coordinates = list(itertools.product(sensors_x_coordinates, sensors_y_coordinates))\n",
    "\n",
    "n_sensors = len(sensors_coordinates)"
   ]
  },
  {
   "cell_type": "markdown",
   "metadata": {},
   "source": [
    "*Global* variables are used to keep track of the clicked positions."
   ]
  },
  {
   "cell_type": "code",
   "execution_count": null,
   "metadata": {},
   "outputs": [],
   "source": [
    "target_position = []\n",
    "observations = []"
   ]
  },
  {
   "cell_type": "markdown",
   "metadata": {},
   "source": [
    "# Canvas"
   ]
  },
  {
   "cell_type": "markdown",
   "metadata": {},
   "source": [
    "We instantiate a 2-layers canvas: one for the sensors (fixed), and one for the (user-recorded) positions."
   ]
  },
  {
   "cell_type": "code",
   "execution_count": null,
   "metadata": {},
   "outputs": [],
   "source": [
    "canvas = MultiCanvas(n_canvases=2, width=width, height=height)"
   ]
  },
  {
   "cell_type": "markdown",
   "metadata": {},
   "source": [
    "## Background"
   ]
  },
  {
   "cell_type": "markdown",
   "metadata": {},
   "source": [
    "The filling style and color for the background canvas ($\\#0$) are set up."
   ]
  },
  {
   "cell_type": "code",
   "execution_count": null,
   "metadata": {},
   "outputs": [],
   "source": [
    "canvas[0].fill_style = sensors_fill_color\n",
    "canvas[0].stroke_style = 'blue'"
   ]
  },
  {
   "cell_type": "markdown",
   "metadata": {},
   "source": [
    "# Border"
   ]
  },
  {
   "cell_type": "markdown",
   "metadata": {},
   "source": [
    "The region in which the target can move."
   ]
  },
  {
   "cell_type": "code",
   "execution_count": null,
   "metadata": {},
   "outputs": [],
   "source": [
    "canvas[0].stroke_rect(0, 0, canvas[0].width, canvas[0].height)"
   ]
  },
  {
   "cell_type": "markdown",
   "metadata": {},
   "source": [
    "# Sensors"
   ]
  },
  {
   "cell_type": "markdown",
   "metadata": {},
   "source": [
    "Sensors are plotted and, for each one of them we build a `plotting.figure` with its corresponding `ColumnDataSource`. Additionally, an `widgets.Output` is also instantiated for every figure/sensor. This is done only once."
   ]
  },
  {
   "cell_type": "code",
   "execution_count": null,
   "metadata": {},
   "outputs": [],
   "source": [
    "output_plots = []\n",
    "figures, sources = [], []\n",
    "\n",
    "# for every sensor's x-y coordinates\n",
    "for x, y in sensors_coordinates:\n",
    "    \n",
    "    # the sensor is plotted (outlined)\n",
    "    canvas[0].stroke_arc(x, y, 20, 0, 2*np.pi)\n",
    "    \n",
    "    figures.append(bokeh.plotting.figure(plot_width=400, plot_height=300, y_range=(0, 40), toolbar_location=None))\n",
    "    sources.append(ColumnDataSource(data=dict(x=[0], y=[0])))\n",
    "    line = Line(x=\"x\", y=\"y\")\n",
    "    figures[-1].add_glyph(sources[-1], line)\n",
    "    \n",
    "    # a new output widget is created for the corresponding plot\n",
    "    output_plots.append(widgets.Output())"
   ]
  },
  {
   "cell_type": "markdown",
   "metadata": {},
   "source": [
    "A grid layout (using horizontal and vertical *containers*) is set to hold the above individual *widgets*."
   ]
  },
  {
   "cell_type": "code",
   "execution_count": null,
   "metadata": {},
   "outputs": [],
   "source": [
    "columns = []\n",
    "\n",
    "for i in range(0, n_sensors, n_sensors_per_axis):\n",
    "    \n",
    "    columns.append(widgets.VBox(output_plots[i:i+n_sensors_per_axis]))\n",
    "\n",
    "grid = widgets.HBox(columns)"
   ]
  },
  {
   "cell_type": "markdown",
   "metadata": {},
   "source": [
    "## Events handlers"
   ]
  },
  {
   "cell_type": "markdown",
   "metadata": {},
   "source": [
    "Handler for when mouse is *un-clicked*"
   ]
  },
  {
   "cell_type": "code",
   "execution_count": null,
   "metadata": {},
   "outputs": [],
   "source": [
    "def handle_mouse_up(x, y):\n",
    "    \n",
    "    # the clicked position is \"recorded\"\n",
    "    target_position.append((x,y))\n",
    "    \n",
    "    # a squared dot representing the clicked position (color must be set every time; see below)\n",
    "    canvas[1].fill_style = position_fill_color\n",
    "    canvas[1].fill_rect(x, y, 10, 10)\n",
    "    \n",
    "    # observations associated with the new position\n",
    "    new_observations = [None] * n_sensors\n",
    "    \n",
    "    # for every sensor (x and y coordinates)...\n",
    "    for i_sensor, (x_sensor, y_sensor) in enumerate(sensors_coordinates):\n",
    "        \n",
    "        # the previous filling in the corresponding \"intensity meter\" is erased\n",
    "        canvas[1].fill_style = 'white'\n",
    "        canvas[1].fill_arc(x_sensor, y_sensor, sensors_radius, 0, 2*np.pi)\n",
    "        \n",
    "        # the new observation is computed\n",
    "        new_observations[i_sensor] = obs(x, y, x_sensor, y_sensor)\n",
    "        \n",
    "        # the intensity meter is adjusted accordingly\n",
    "        canvas[1].fill_style = sensors_fill_color\n",
    "        canvas[1].fill_arc(x_sensor, y_sensor, sensors_radius, 0, obs_to_angle(new_observations[i_sensor]))\n",
    "    \n",
    "    # the new observations are appended to the collection (with the previous ones)\n",
    "    observations.append(new_observations)\n",
    "    \n",
    "    # for the sake of convenience\n",
    "    observations_np = np.array(observations)\n",
    "    \n",
    "    x = np.arange(observations_np.shape[0])\n",
    "\n",
    "    # for every plot's source and handler (associated with a sensor) along with the newly added observations...\n",
    "    for source, handler, y in zip(sources, handlers, observations_np.T):\n",
    "        \n",
    "        # ...data points are updated...\n",
    "        source.data = {'x':x, 'y':y}\n",
    "        \n",
    "        # ...and a \"redraw\" enforced\n",
    "        push_notebook(handle=handler)\n",
    "\n",
    "canvas[1].on_mouse_up(handle_mouse_up)"
   ]
  },
  {
   "cell_type": "markdown",
   "metadata": {},
   "source": [
    "---"
   ]
  },
  {
   "cell_type": "markdown",
   "metadata": {},
   "source": [
    "The grid is shown and the and the individual widgets it encompasses are populated with bokeh figures."
   ]
  },
  {
   "cell_type": "code",
   "execution_count": null,
   "metadata": {},
   "outputs": [],
   "source": [
    "display(grid)\n",
    "\n",
    "handlers = []\n",
    "\n",
    "for figure, output_plot in zip(figures, output_plots):\n",
    "    \n",
    "    with output_plot:\n",
    "        \n",
    "        handlers.append(show(figure, notebook_handle=True))"
   ]
  },
  {
   "cell_type": "markdown",
   "metadata": {},
   "source": [
    "Next cell provides the canvas. By clicking any point on the *map* we record the position of the target at a (discrete) time instant. This has two effects:\n",
    "- Each sensor fills up to the extent of its received signal strength (starting from $0$ degrees and going clock-wise).\n",
    "- The plots above are updated with the signal seen so far by every sensor (you need to click more than once for this to be show).\n",
    "\n",
    "It is probably a good idea to **zoom out** a little bit to see the canvas and the plots simultaneously."
   ]
  },
  {
   "cell_type": "code",
   "execution_count": null,
   "metadata": {
    "scrolled": false
   },
   "outputs": [],
   "source": [
    "canvas"
   ]
  }
 ],
 "metadata": {
  "kernelspec": {
   "display_name": "Python 3",
   "language": "python",
   "name": "python3"
  },
  "language_info": {
   "codemirror_mode": {
    "name": "ipython",
    "version": 3
   },
   "file_extension": ".py",
   "mimetype": "text/x-python",
   "name": "python",
   "nbconvert_exporter": "python",
   "pygments_lexer": "ipython3",
   "version": "3.9.1"
  }
 },
 "nbformat": 4,
 "nbformat_minor": 4
}
