{
 "cells": [
  {
   "cell_type": "code",
   "execution_count": 1,
   "metadata": {},
   "outputs": [],
   "source": [
    "import itertools\n",
    "import ipywidgets as widgets\n",
    "\n",
    "import numpy as np\n",
    "from ipycanvas import Canvas, MultiCanvas\n",
    "\n",
    "import plotly.graph_objects as go\n",
    "from plotly.subplots import make_subplots"
   ]
  },
  {
   "cell_type": "markdown",
   "metadata": {},
   "source": [
    "Some parameters that can be tweaked (carefully, though)"
   ]
  },
  {
   "cell_type": "code",
   "execution_count": 2,
   "metadata": {},
   "outputs": [],
   "source": [
    "width, height = 900, 600 # in pixels\n",
    "# width, height = 100, 600 # in pixels\n",
    "\n",
    "# these pixels are encompassed by those above\n",
    "horizontal_padding = 300 # in pixels\n",
    "vertical_padding = 100\n",
    "\n",
    "# the smaller, the easier the sensors get activated\n",
    "obs_to_angle_sensitivity = 0.25\n",
    "\n",
    "tx_power = 2e3\n",
    "\n",
    "sensors_fill_color = 'red'\n",
    "position_fill_color = 'green'\n",
    "\n",
    "n_sensors = 4\n",
    "\n",
    "# sensors are represented as circles\n",
    "sensors_radius = 19\n",
    "\n",
    "# maximum value of the power shown in the plots\n",
    "max_y = 60"
   ]
  },
  {
   "cell_type": "markdown",
   "metadata": {},
   "source": [
    "# Model"
   ]
  },
  {
   "cell_type": "markdown",
   "metadata": {},
   "source": [
    "We compute the observation recorded at a sensor placed at position $\\mathbf{s}$ when the *target* is at $\\mathbf{x}$  as\n",
    "$$\n",
    "    y\n",
    "    =\n",
    "    \\frac{\n",
    "        P_0\n",
    "    }\n",
    "    {\n",
    "        \\left|\\left|\n",
    "            \\mathbf{x} - \\mathbf{s}\n",
    "        \\right|\\right|_2\n",
    "    }\n",
    "$$\n",
    "where $\\left|\\left|\\mathbf{x}\\right|\\right|_2$ is the modulus (2-norm) of vector $\\mathbf{x}$."
   ]
  },
  {
   "cell_type": "code",
   "execution_count": 3,
   "metadata": {},
   "outputs": [],
   "source": [
    "def obs(x_1: int, y_1: int, x_sensor: int, y_sensor) -> float:\n",
    "    \"\"\"\n",
    "        Computes an observation given the x and y coordinates for two different positions.\n",
    "    \"\"\"\n",
    "    \n",
    "    return tx_power / np.sqrt((x_1 - x_sensor)**2 + (y_1 - y_sensor)**2)"
   ]
  },
  {
   "cell_type": "markdown",
   "metadata": {},
   "source": [
    "The functions going from the model observation to the angle in the *canvas*' meters is\n",
    "$$\n",
    "2\\pi\n",
    "\\left(\n",
    "\\frac{\n",
    "    1\n",
    "}{\n",
    "    1 + e^{-\\rho y}\n",
    "}\n",
    "- 0.5\n",
    "\\right)\n",
    "/\n",
    "(1-0.5)\n",
    "$$\n",
    "where $\\rho$ is the above *observation-to-angle sensitivity* (`obs_to_angle_sensitivity`)."
   ]
  },
  {
   "cell_type": "code",
   "execution_count": 4,
   "metadata": {},
   "outputs": [],
   "source": [
    "def obs_to_angle(obs: float) -> float:\n",
    "    \"\"\"\n",
    "        Turns a measure into an angle in radians.\n",
    "    \"\"\"\n",
    "    \n",
    "    return 2*np.pi * ((1. / (1. + np.exp(-obs_to_angle_sensitivity*obs))) - 0.5) / (1 - 0.5)"
   ]
  },
  {
   "cell_type": "markdown",
   "metadata": {},
   "source": [
    "# Preliminary computations"
   ]
  },
  {
   "cell_type": "code",
   "execution_count": 5,
   "metadata": {},
   "outputs": [],
   "source": [
    "# number of sensors per axis\n",
    "n_sensors_per_axis = int(np.sqrt(n_sensors))\n",
    "\n",
    "# all the x coordinates of the sensors...\n",
    "sensors_x_coordinates = np.linspace(horizontal_padding, width-horizontal_padding, n_sensors_per_axis)\n",
    "# sensors_x_coordinates = np.linspace(horizontal_padding, width-horizontal_padding, n_sensors_per_axis+)[1:]\n",
    "\n",
    "# ...and all the y's\n",
    "sensors_y_coordinates = np.linspace(vertical_padding, height-vertical_padding, n_sensors_per_axis)\n",
    "\n",
    "# a list of tuples with the resulting positions\n",
    "sensors_coordinates = list(itertools.product(sensors_x_coordinates, sensors_y_coordinates))\n",
    "\n",
    "n_sensors = len(sensors_coordinates)"
   ]
  },
  {
   "cell_type": "markdown",
   "metadata": {},
   "source": [
    "*Global* variables are used to keep track of the clicked positions."
   ]
  },
  {
   "cell_type": "code",
   "execution_count": 6,
   "metadata": {},
   "outputs": [],
   "source": [
    "target_position = []\n",
    "observations = []"
   ]
  },
  {
   "cell_type": "markdown",
   "metadata": {},
   "source": [
    "# Canvas"
   ]
  },
  {
   "cell_type": "markdown",
   "metadata": {},
   "source": [
    "We instantiate a 2-layers canvas: one for the sensors (fixed), and one for the (user-recorded) positions."
   ]
  },
  {
   "cell_type": "code",
   "execution_count": 7,
   "metadata": {},
   "outputs": [],
   "source": [
    "canvas = MultiCanvas(n_canvases=2, width=width, height=height)"
   ]
  },
  {
   "cell_type": "markdown",
   "metadata": {},
   "source": [
    "## Background"
   ]
  },
  {
   "cell_type": "markdown",
   "metadata": {},
   "source": [
    "The filling style and color for the background canvas ($\\#0$) are set up."
   ]
  },
  {
   "cell_type": "code",
   "execution_count": 8,
   "metadata": {},
   "outputs": [],
   "source": [
    "canvas[0].fill_style = sensors_fill_color\n",
    "canvas[0].stroke_style = 'blue'"
   ]
  },
  {
   "cell_type": "markdown",
   "metadata": {},
   "source": [
    "# Border"
   ]
  },
  {
   "cell_type": "markdown",
   "metadata": {},
   "source": [
    "The region in which the target can move."
   ]
  },
  {
   "cell_type": "code",
   "execution_count": 9,
   "metadata": {},
   "outputs": [],
   "source": [
    "canvas[0].stroke_rect(0, 0, canvas[0].width, canvas[0].height)"
   ]
  },
  {
   "cell_type": "markdown",
   "metadata": {},
   "source": [
    "# Sensors"
   ]
  },
  {
   "cell_type": "markdown",
   "metadata": {},
   "source": [
    "Sensors are plotted."
   ]
  },
  {
   "cell_type": "code",
   "execution_count": 10,
   "metadata": {},
   "outputs": [],
   "source": [
    "# for every sensor's x-y coordinates\n",
    "for x, y in sensors_coordinates:\n",
    "    \n",
    "    # the sensor is plotted (outlined)\n",
    "    canvas[0].stroke_arc(x, y, 20, 0, 2*np.pi)"
   ]
  },
  {
   "cell_type": "markdown",
   "metadata": {},
   "source": [
    "A container for the *plotly* figures."
   ]
  },
  {
   "cell_type": "code",
   "execution_count": 11,
   "metadata": {},
   "outputs": [],
   "source": [
    "# Create FigureWidget for real-time updates\n",
    "fig_widget = go.FigureWidget(make_subplots(\n",
    "    rows=n_sensors_per_axis, cols=n_sensors_per_axis,\n",
    "    subplot_titles=[f\"Sensor {i+1}\" for i in range(n_sensors)]\n",
    "))"
   ]
  },
  {
   "cell_type": "markdown",
   "metadata": {},
   "source": [
    "A *plotly* figure for every sensor."
   ]
  },
  {
   "cell_type": "code",
   "execution_count": 14,
   "metadata": {},
   "outputs": [],
   "source": [
    "# Create scatter plots for each sensor\n",
    "for i in range(n_sensors):\n",
    "    # row, col = divmod(i, n_sensors_per_axis)\n",
    "    col, row = divmod(i, n_sensors_per_axis)\n",
    "    trace = go.Scatter(x=[], y=[], mode='lines', name=f'Sensor {i+1}')\n",
    "    fig_widget.add_trace(trace, row=row+1, col=col+1)\n",
    "    fig_widget.update_yaxes(range=[0, max_y], row=row+1, col=col+1)"
   ]
  },
  {
   "cell_type": "markdown",
   "metadata": {},
   "source": [
    "Some global tweaks."
   ]
  },
  {
   "cell_type": "code",
   "execution_count": 15,
   "metadata": {},
   "outputs": [],
   "source": [
    "# Update layout\n",
    "fig_widget.update_layout(\n",
    "    height=600, width=800,\n",
    "    title_text=\"Observations\",\n",
    "    showlegend=False,\n",
    ");"
   ]
  },
  {
   "cell_type": "markdown",
   "metadata": {},
   "source": [
    "## Events handlers"
   ]
  },
  {
   "cell_type": "markdown",
   "metadata": {},
   "source": [
    "Handler for when mouse is *un-clicked*"
   ]
  },
  {
   "cell_type": "code",
   "execution_count": 16,
   "metadata": {},
   "outputs": [],
   "source": [
    "def handle_mouse_up(x, y):\n",
    "    print(f\"Mouse clicked at: ({x}, {y})\")\n",
    "\n",
    "    target_position.append((x, y))\n",
    "    canvas[1].fill_style = position_fill_color\n",
    "    canvas[1].fill_rect(x, y, 10, 10)\n",
    "\n",
    "    new_observations = [None] * n_sensors\n",
    "    for i_sensor, (x_sensor, y_sensor) in enumerate(sensors_coordinates):\n",
    "        canvas[1].fill_style = 'white'\n",
    "        canvas[1].fill_arc(x_sensor, y_sensor, sensors_radius, 0, 2*np.pi)\n",
    "\n",
    "        new_observations[i_sensor] = obs(x, y, x_sensor, y_sensor)\n",
    "        \n",
    "        canvas[1].fill_style = sensors_fill_color\n",
    "        canvas[1].fill_arc(x_sensor, y_sensor, sensors_radius, 0, obs_to_angle(new_observations[i_sensor]))\n",
    "\n",
    "    observations.append(new_observations)\n",
    "    observations_np = np.array(observations)\n",
    "    x_vals = np.arange(observations_np.shape[0])\n",
    "\n",
    "    with fig_widget.batch_update():\n",
    "        for i, trace in enumerate(fig_widget.data):\n",
    "            trace.x = x_vals\n",
    "            trace.y = observations_np[:, i]\n",
    "\n",
    "canvas[1].on_mouse_up(handle_mouse_up)\n"
   ]
  },
  {
   "cell_type": "markdown",
   "metadata": {},
   "source": [
    "Next cell provides the canvas. By clicking any point on the *map* we record the position of the target at a (discrete) time instant. This has two effects:\n",
    "- Each sensor fills up to the extent of its received signal strength (starting from $0$ degrees and going clock-wise).\n",
    "- The plots above are updated with the signal seen so far by every sensor (you need to click more than once for this to be shown).\n",
    "\n",
    "It is probably a good idea to **zoom out** a little bit to see the canvas and the plots simultaneously."
   ]
  },
  {
   "cell_type": "code",
   "execution_count": 17,
   "metadata": {},
   "outputs": [
    {
     "data": {
      "application/vnd.jupyter.widget-view+json": {
       "model_id": "31c75d4775dd47ad912ca434a5e14d2f",
       "version_major": 2,
       "version_minor": 0
      },
      "text/plain": [
       "FigureWidget({\n",
       "    'data': [{'mode': 'lines',\n",
       "              'name': 'Sensor 1',\n",
       "              'type': 'scatter',\n",
       "              'uid': '9d8d73ee-8257-4641-91a2-6fafba641217',\n",
       "              'x': [],\n",
       "              'xaxis': 'x',\n",
       "              'y': [],\n",
       "              'yaxis': 'y'},\n",
       "             {'mode': 'lines',\n",
       "              'name': 'Sensor 2',\n",
       "              'type': 'scatter',\n",
       "              'uid': '3f56b205-489a-49ec-a4c2-3c2cddb5e015',\n",
       "              'x': [],\n",
       "              'xaxis': 'x3',\n",
       "              'y': [],\n",
       "              'yaxis': 'y3'},\n",
       "             {'mode': 'lines',\n",
       "              'name': 'Sensor 3',\n",
       "              'type': 'scatter',\n",
       "              'uid': 'c77e40fe-299b-4bbe-956f-80b16c39c58b',\n",
       "              'x': [],\n",
       "              'xaxis': 'x2',\n",
       "              'y': [],\n",
       "              'yaxis': 'y2'},\n",
       "             {'mode': 'lines',\n",
       "              'name': 'Sensor 4',\n",
       "              'type': 'scatter',\n",
       "              'uid': 'afef75b0-f27a-4b5a-ac09-464cc606e764',\n",
       "              'x': [],\n",
       "              'xaxis': 'x4',\n",
       "              'y': [],\n",
       "              'yaxis': 'y4'}],\n",
       "    'layout': {'annotations': [{'font': {'size': 16},\n",
       "                                'showarrow': False,\n",
       "                                'text': 'Sensor 1',\n",
       "                                'x': 0.225,\n",
       "                                'xanchor': 'center',\n",
       "                                'xref': 'paper',\n",
       "                                'y': 1.0,\n",
       "                                'yanchor': 'bottom',\n",
       "                                'yref': 'paper'},\n",
       "                               {'font': {'size': 16},\n",
       "                                'showarrow': False,\n",
       "                                'text': 'Sensor 2',\n",
       "                                'x': 0.775,\n",
       "                                'xanchor': 'center',\n",
       "                                'xref': 'paper',\n",
       "                                'y': 1.0,\n",
       "                                'yanchor': 'bottom',\n",
       "                                'yref': 'paper'},\n",
       "                               {'font': {'size': 16},\n",
       "                                'showarrow': False,\n",
       "                                'text': 'Sensor 3',\n",
       "                                'x': 0.225,\n",
       "                                'xanchor': 'center',\n",
       "                                'xref': 'paper',\n",
       "                                'y': 0.375,\n",
       "                                'yanchor': 'bottom',\n",
       "                                'yref': 'paper'},\n",
       "                               {'font': {'size': 16},\n",
       "                                'showarrow': False,\n",
       "                                'text': 'Sensor 4',\n",
       "                                'x': 0.775,\n",
       "                                'xanchor': 'center',\n",
       "                                'xref': 'paper',\n",
       "                                'y': 0.375,\n",
       "                                'yanchor': 'bottom',\n",
       "                                'yref': 'paper'}],\n",
       "               'height': 600,\n",
       "               'showlegend': False,\n",
       "               'template': '...',\n",
       "               'title': {'text': 'Observations'},\n",
       "               'width': 800,\n",
       "               'xaxis': {'anchor': 'y', 'domain': [0.0, 0.45]},\n",
       "               'xaxis2': {'anchor': 'y2', 'domain': [0.55, 1.0]},\n",
       "               'xaxis3': {'anchor': 'y3', 'domain': [0.0, 0.45]},\n",
       "               'xaxis4': {'anchor': 'y4', 'domain': [0.55, 1.0]},\n",
       "               'yaxis': {'anchor': 'x', 'domain': [0.625, 1.0], 'range': [0, 60]},\n",
       "               'yaxis2': {'anchor': 'x2', 'domain': [0.625, 1.0], 'range': [0, 60]},\n",
       "               'yaxis3': {'anchor': 'x3', 'domain': [0.0, 0.375], 'range': [0, 60]},\n",
       "               'yaxis4': {'anchor': 'x4', 'domain': [0.0, 0.375], 'range': [0, 60]}}\n",
       "})"
      ]
     },
     "metadata": {},
     "output_type": "display_data"
    },
    {
     "data": {
      "application/vnd.jupyter.widget-view+json": {
       "model_id": "a172a23227854a4b8b0a6be2d988c32e",
       "version_major": 2,
       "version_minor": 0
      },
      "text/plain": [
       "MultiCanvas(height=600, width=900)"
      ]
     },
     "execution_count": 17,
     "metadata": {},
     "output_type": "execute_result"
    }
   ],
   "source": [
    "# Display everything\n",
    "display(fig_widget)\n",
    "canvas"
   ]
  }
 ],
 "metadata": {
  "kernelspec": {
   "display_name": ".venv",
   "language": "python",
   "name": "python3"
  },
  "language_info": {
   "codemirror_mode": {
    "name": "ipython",
    "version": 3
   },
   "file_extension": ".py",
   "mimetype": "text/x-python",
   "name": "python",
   "nbconvert_exporter": "python",
   "pygments_lexer": "ipython3",
   "version": "3.12.8"
  }
 },
 "nbformat": 4,
 "nbformat_minor": 4
}
